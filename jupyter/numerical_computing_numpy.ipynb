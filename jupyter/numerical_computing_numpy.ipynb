{
 "cells": [
  {
   "cell_type": "markdown",
   "id": "f118e286-a8dd-43f8-a319-ca2e5ef6fa4c",
   "metadata": {},
   "source": [
    "# Numerical computing with numpy"
   ]
  },
  {
   "cell_type": "markdown",
   "id": "3972eacc-c78d-4014-b063-d9d7decefbb8",
   "metadata": {},
   "source": [
    "## Performing numerical operations with python stdlib"
   ]
  },
  {
   "cell_type": "markdown",
   "id": "ae266eb0-aff7-4a0b-9a3d-606a1880ec5c",
   "metadata": {},
   "source": [
    "Let's write a simple algorithm that will calculate the yield of a particular crop, taking into account factors as rainfall, temperature and humidity.\n",
    "\n",
    "On the most basic level it can be formulated as `crop_yield = w1 * temperature + w2 * rainfall + w3 * humidity`"
   ]
  },
  {
   "cell_type": "markdown",
   "id": "bc4b779e-7731-4983-a1ca-96b6b283c331",
   "metadata": {},
   "source": [
    "Let's assume these hypothetical weights for `w1`, `w2` and `w3`:"
   ]
  },
  {
   "cell_type": "code",
   "execution_count": null,
   "id": "2fcfc680-269c-49d0-a661-21479b1e4fed",
   "metadata": {},
   "outputs": [],
   "source": [
    "w1, w2, w3 = 0.3, 0.2, 0.5"
   ]
  },
  {
   "cell_type": "markdown",
   "id": "a7420490-918f-4c28-b96f-993347251b92",
   "metadata": {},
   "source": [
    "Given some made up climate data we can predict the yield of particular crop in the region:"
   ]
  },
  {
   "cell_type": "markdown",
   "id": "d0827c56-f3b8-4385-9279-8e75e62df9be",
   "metadata": {},
   "source": [
    "| Place          | Temp. (C) | Rainfall (mm) | Humidity (%) |\n",
    "|----------------|-----------|---------------|--------------|\n",
    "| Springfield    | 23        | 67            | 43           |\n",
    "| Quahog         | 33        | 88            | 64           |\n",
    "| New New York   | 30        | 96            | 70           |\n",
    "| South Park     | 39        | 43            | 37           |\n",
    "| Bikini Bottoms | 5         | 900           | 100          |"
   ]
  },
  {
   "cell_type": "markdown",
   "id": "e27927ac-a36d-4cf2-84d6-f18434d985e4",
   "metadata": {},
   "source": [
    "To make a PoC, let's define the variables for recording the climate data in one region:"
   ]
  },
  {
   "cell_type": "code",
   "execution_count": null,
   "id": "1266e9ac-d0a8-47ce-a1cd-ce6f4587ac1c",
   "metadata": {},
   "outputs": [],
   "source": [
    "springfield_temp = 23\n",
    "springfield_rain = 67\n",
    "springfield_humidity = 43"
   ]
  },
  {
   "cell_type": "markdown",
   "id": "82e4caa0-270d-4cb5-8058-d9ce89fc20e7",
   "metadata": {},
   "source": [
    "Now, we can substitute this data in the previous equation to make our prediction: "
   ]
  },
  {
   "cell_type": "code",
   "execution_count": null,
   "id": "0562131d-e850-4b08-be7b-2978a8b3aaa7",
   "metadata": {},
   "outputs": [],
   "source": [
    "springfield_yield = springfield_temp * w1 + springfield_rain * w2 + springfield_humidity * w3\n",
    "springfield_yield"
   ]
  },
  {
   "cell_type": "code",
   "execution_count": null,
   "id": "a44bf7f8-7a49-488d-839c-02378db746d7",
   "metadata": {},
   "outputs": [],
   "source": [
    "print(f\"The expected yield in Springfield is {springfield_yield} tons per hectare\")"
   ]
  },
  {
   "cell_type": "markdown",
   "id": "e4c7ea1b-309a-4677-80dd-edb70f291745",
   "metadata": {},
   "source": [
    "To avoid the need for declaring new set of variables for each region, we can represent the data points as a vector. "
   ]
  },
  {
   "cell_type": "code",
   "execution_count": null,
   "id": "faa78537-ac9e-4dae-998d-c615825a5ab9",
   "metadata": {},
   "outputs": [],
   "source": [
    "springfield = [23, 67, 43]\n",
    "quahog = [33, 88, 64]\n",
    "new_new_york = [30, 96, 70]\n",
    "south_park = [39, 43, 37]\n",
    "bikini_bottoms = [5, 900, 100]"
   ]
  },
  {
   "cell_type": "markdown",
   "id": "046ed3bd-7bd3-42ac-9340-faeb319bae58",
   "metadata": {},
   "source": [
    "We can do the same with weights, allowing for keeping the code more concise and readable."
   ]
  },
  {
   "cell_type": "code",
   "execution_count": null,
   "id": "3d825238-b2c2-45a5-96ad-3a8ab5e0b3e8",
   "metadata": {},
   "outputs": [],
   "source": [
    "weights = [w1, w2, w3]"
   ]
  },
  {
   "cell_type": "markdown",
   "id": "5b6e0cf0-5a82-4a73-b1ca-21878f6459ac",
   "metadata": {},
   "source": [
    "To make the code more reusable, we can define it as a function."
   ]
  },
  {
   "cell_type": "code",
   "execution_count": null,
   "id": "b797f26a-cde8-488f-be04-ff42a3adfdb1",
   "metadata": {},
   "outputs": [],
   "source": [
    "def crop_yield(region, weights):\n",
    "    result = 0\n",
    "    for x, w in zip(region, weights):\n",
    "        result += x * w\n",
    "    return result"
   ]
  },
  {
   "cell_type": "markdown",
   "id": "3db678cf-c830-4cd4-acf8-afe379313077",
   "metadata": {},
   "source": [
    "If you want to know more about the `zip()` builtin, run the code below."
   ]
  },
  {
   "cell_type": "code",
   "execution_count": null,
   "id": "7db22853-e4ce-4d52-a880-0752e598c8e7",
   "metadata": {},
   "outputs": [],
   "source": [
    "help(zip)"
   ]
  },
  {
   "cell_type": "code",
   "execution_count": null,
   "id": "2643916f-b975-4970-9871-5af76bce09b4",
   "metadata": {},
   "outputs": [],
   "source": [
    "crop_yield(springfield, weights)"
   ]
  },
  {
   "cell_type": "code",
   "execution_count": null,
   "id": "31f41910-ab3f-4923-a17a-6dfccf43276f",
   "metadata": {},
   "outputs": [],
   "source": [
    "crop_yield(quahog, weights)"
   ]
  },
  {
   "cell_type": "code",
   "execution_count": null,
   "id": "b5c9b26f-8150-4838-bc53-c8c265ccf541",
   "metadata": {},
   "outputs": [],
   "source": [
    "crop_yield(new_new_york, weights)"
   ]
  },
  {
   "cell_type": "code",
   "execution_count": null,
   "id": "19b306e7-807c-4df3-b4a5-ba6fafc4d233",
   "metadata": {},
   "outputs": [],
   "source": [
    "crop_yield(south_park, weights)"
   ]
  },
  {
   "cell_type": "code",
   "execution_count": null,
   "id": "331ba8e6-0414-4f25-8b2d-f5fccabc86c4",
   "metadata": {},
   "outputs": [],
   "source": [
    "crop_yield(bikini_bottoms, weights)"
   ]
  }
 ],
 "metadata": {
  "kernelspec": {
   "display_name": "Python 3 (ipykernel)",
   "language": "python",
   "name": "python3"
  },
  "language_info": {
   "codemirror_mode": {
    "name": "ipython",
    "version": 3
   },
   "file_extension": ".py",
   "mimetype": "text/x-python",
   "name": "python",
   "nbconvert_exporter": "python",
   "pygments_lexer": "ipython3",
   "version": "3.10.6"
  }
 },
 "nbformat": 4,
 "nbformat_minor": 5
}
